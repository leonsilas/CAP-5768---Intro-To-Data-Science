{
 "cells": [
  {
   "cell_type": "markdown",
   "id": "b733fbaf",
   "metadata": {},
   "source": [
    "### Assignment 1"
   ]
  },
  {
   "cell_type": "code",
   "execution_count": 1,
   "id": "79475f83",
   "metadata": {},
   "outputs": [],
   "source": [
    "#imports\n",
    "import numpy as np\n",
    "import pandas as pd\n",
    "\n",
    "#import csv into df\n",
    "df = pd.read_csv('Assignment 1 - Automobile_data.csv')"
   ]
  },
  {
   "cell_type": "markdown",
   "id": "6de84ef5",
   "metadata": {},
   "source": [
    "Question 1 :\n",
    "\n",
    "a) print the first and last five rows (5 Points)"
   ]
  },
  {
   "cell_type": "code",
   "execution_count": 2,
   "id": "dc5f3bad",
   "metadata": {},
   "outputs": [
    {
     "name": "stdout",
     "output_type": "stream",
     "text": [
      "   index      company   body-style  wheel-base  length engine-type  \\\n",
      "0      0  alfa-romero  convertible        88.6   168.8        dohc   \n",
      "1      1  alfa-romero  convertible        88.6   168.8        dohc   \n",
      "2      2  alfa-romero    hatchback        94.5   171.2        ohcv   \n",
      "3      3         audi        sedan        99.8   176.6         ohc   \n",
      "4      4         audi        sedan        99.4   176.6         ohc   \n",
      "\n",
      "  num-of-cylinders  horsepower  average-mileage    price  \n",
      "0             four         111               21  13495.0  \n",
      "1             four         111               21  16500.0  \n",
      "2              six         154               19  16500.0  \n",
      "3             four         102               24  13950.0  \n",
      "4             five         115               18  17450.0  \n",
      "    index     company body-style  wheel-base  length engine-type  \\\n",
      "56     81  volkswagen      sedan        97.3   171.7         ohc   \n",
      "57     82  volkswagen      sedan        97.3   171.7         ohc   \n",
      "58     86  volkswagen      sedan        97.3   171.7         ohc   \n",
      "59     87       volvo      sedan       104.3   188.8         ohc   \n",
      "60     88       volvo      wagon       104.3   188.8         ohc   \n",
      "\n",
      "   num-of-cylinders  horsepower  average-mileage    price  \n",
      "56             four          85               27   7975.0  \n",
      "57             four          52               37   7995.0  \n",
      "58             four         100               26   9995.0  \n",
      "59             four         114               23  12940.0  \n",
      "60             four         114               23  13415.0  \n"
     ]
    }
   ],
   "source": [
    "# print first 5 rows\n",
    "print(df.head(5))\n",
    "\n",
    "# print last 5 rows\n",
    "print(df.tail(5))"
   ]
  },
  {
   "cell_type": "markdown",
   "id": "c0e7df59",
   "metadata": {},
   "source": [
    "b) print most expensive car’s company name and price  (5 Points)"
   ]
  },
  {
   "cell_type": "code",
   "execution_count": 8,
   "id": "a102d117",
   "metadata": {},
   "outputs": [
    {
     "name": "stdout",
     "output_type": "stream",
     "text": [
      "company    mercedes-benz\n",
      "price              45400\n",
      "Name: 35, dtype: object\n"
     ]
    }
   ],
   "source": [
    "# find most expensive car\n",
    "top = df.loc[df['price'].idxmax()]\n",
    "print(top[['company', 'price']])"
   ]
  },
  {
   "cell_type": "markdown",
   "id": "f30ef93b",
   "metadata": {},
   "source": [
    "c) print All Toyota Cars details  (5 Points)"
   ]
  },
  {
   "cell_type": "code",
   "execution_count": 10,
   "id": "54296ab6",
   "metadata": {},
   "outputs": [
    {
     "name": "stdout",
     "output_type": "stream",
     "text": [
      "    index company body-style  wheel-base  length engine-type num-of-cylinders  \\\n",
      "48     66  toyota  hatchback        95.7   158.7         ohc             four   \n",
      "49     67  toyota  hatchback        95.7   158.7         ohc             four   \n",
      "50     68  toyota  hatchback        95.7   158.7         ohc             four   \n",
      "51     69  toyota      wagon        95.7   169.7         ohc             four   \n",
      "52     70  toyota      wagon        95.7   169.7         ohc             four   \n",
      "53     71  toyota      wagon        95.7   169.7         ohc             four   \n",
      "54     79  toyota      wagon       104.5   187.8        dohc              six   \n",
      "\n",
      "    horsepower  average-mileage    price  \n",
      "48          62               35   5348.0  \n",
      "49          62               31   6338.0  \n",
      "50          62               31   6488.0  \n",
      "51          62               31   6918.0  \n",
      "52          62               27   7898.0  \n",
      "53          62               27   8778.0  \n",
      "54         156               19  15750.0  \n"
     ]
    }
   ],
   "source": [
    "# extract toyota cars\n",
    "toyota = df[df['company'] == 'toyota']\n",
    "print(toyota)"
   ]
  },
  {
   "cell_type": "markdown",
   "id": "15b5410b",
   "metadata": {},
   "source": [
    "d) print total cars count per company  (5 Points)"
   ]
  },
  {
   "cell_type": "code",
   "execution_count": 13,
   "id": "9106236c",
   "metadata": {},
   "outputs": [
    {
     "name": "stdout",
     "output_type": "stream",
     "text": [
      "toyota           7\n",
      "bmw              6\n",
      "mazda            5\n",
      "nissan           5\n",
      "audi             4\n",
      "volkswagen       4\n",
      "mitsubishi       4\n",
      "mercedes-benz    4\n",
      "isuzu            3\n",
      "jaguar           3\n",
      "honda            3\n",
      "alfa-romero      3\n",
      "chevrolet        3\n",
      "porsche          3\n",
      "dodge            2\n",
      "volvo            2\n",
      "Name: company, dtype: int64\n"
     ]
    }
   ],
   "source": [
    "# count the number of cars for each company\n",
    "counts = df['company'].value_counts()\n",
    "print(counts)"
   ]
  },
  {
   "cell_type": "markdown",
   "id": "5d0c41cd",
   "metadata": {},
   "source": [
    "e) sort all cars by Price column (5 Points)"
   ]
  },
  {
   "cell_type": "code",
   "execution_count": 17,
   "id": "8647c0a0",
   "metadata": {},
   "outputs": [
    {
     "name": "stdout",
     "output_type": "stream",
     "text": [
      "          company    price\n",
      "35  mercedes-benz  45400.0\n",
      "11            bmw  41315.0\n",
      "34  mercedes-benz  40960.0\n",
      "46        porsche  37028.0\n",
      "12            bmw  36880.0\n"
     ]
    }
   ],
   "source": [
    "# sort cars by price from highest to lowest\n",
    "sorted_cars = df.sort_values(by='price', ascending=False)\n",
    "print(sorted_cars[['company', 'price']].head(5))"
   ]
  },
  {
   "cell_type": "markdown",
   "id": "a139efaf",
   "metadata": {},
   "source": [
    "Question 2 : A manufacturing company claims that their new production process will result in a mean weight of 100 grams for their product packaging. To test this claim, a sample of 50 packaging units is taken, and the mean weight is found to be 98.5 grams with a standard deviation of 2.3 grams.\n",
    "\n",
    "a) Formulate the null and alternative hypotheses for this scenario.\n",
    "\n",
    "b) Calculate the test statistic and p-value for testing the hypothesis (you can use a program code or you can calculate by-hand).\n",
    "\n",
    "c) At a significance level of 0.05, what is your conclusion regarding the company's claim?"
   ]
  },
  {
   "cell_type": "code",
   "execution_count": null,
   "id": "071cb48a",
   "metadata": {},
   "outputs": [],
   "source": []
  },
  {
   "cell_type": "markdown",
   "id": "2ddbcebb",
   "metadata": {},
   "source": [
    "Question 3 : An educational institute claims that the average score of its students in a standardized test is at least 75. To test this claim, a random sample of 40 students is taken, and their average score is found to be 72.8 with a standard deviation of 5.6.\n",
    "\n",
    "a) State the null and alternative hypotheses.\n",
    "\n",
    "b) Compute the test statistic and p-value. (you can use a program code or you can calculate by-hand).\n",
    "\n",
    "c) Based on a significance level of 0.01, what is your conclusion regarding the institute's claim?"
   ]
  },
  {
   "cell_type": "markdown",
   "id": "5663dae4",
   "metadata": {},
   "source": [
    "Question 4 : A machine learning model was trained to classify emails as either spam (positive class) or non-spam (negative class). After testing the model on a dataset of 200 emails, the following results were obtained: True Positives (TP): 85 , False Positives (FP): 10, True Negatives (TN): 90, False Negatives (FN): 15\n",
    "\n",
    "a) Calculate the accuracy, precision, recall, and F1-score of the model.\n",
    "\n",
    "b) Construct the confusion matrix based on the provided results.\n",
    "\n",
    "c) Interpret the performance of the model based on the confusion matrix."
   ]
  }
 ],
 "metadata": {
  "kernelspec": {
   "display_name": "gpu2",
   "language": "python",
   "name": "gpu2"
  },
  "language_info": {
   "codemirror_mode": {
    "name": "ipython",
    "version": 3
   },
   "file_extension": ".py",
   "mimetype": "text/x-python",
   "name": "python",
   "nbconvert_exporter": "python",
   "pygments_lexer": "ipython3",
   "version": "3.6.13"
  }
 },
 "nbformat": 4,
 "nbformat_minor": 5
}
