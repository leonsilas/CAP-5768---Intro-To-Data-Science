{
 "cells": [
  {
   "cell_type": "markdown",
   "id": "7c304ec5",
   "metadata": {},
   "source": [
    "Leon Silas\n",
    "\n",
    "Intro to Data Science - CAP 5768"
   ]
  },
  {
   "cell_type": "markdown",
   "id": "80a46a52",
   "metadata": {},
   "source": [
    "### Assignment 2"
   ]
  },
  {
   "cell_type": "markdown",
   "id": "4cf66613",
   "metadata": {},
   "source": [
    "1) (30 points)  A hospital wants to predict whether a patient has a certain disease (1:positive, 0:negative) based on their age and cholesterol level. Using logistic regression, build a model to predict the probability of a patient having the disease based on their age and cholesterol level.\n",
    "\n",
    "a) Implement logistic regression using Python to build the predictive model.\n",
    "\n",
    "b) Evaluate the model's performance using appropriate metrics such as accuracy, precision, recall, and F1-score.\n",
    "\n",
    "c) Interpret the coefficients of the logistic regression model and discuss their significance in predicting the probability of having the disease."
   ]
  },
  {
   "cell_type": "code",
   "execution_count": null,
   "id": "a6fdb9b1",
   "metadata": {},
   "outputs": [],
   "source": [
    "\n",
    "\n",
    "Data:\n",
    "\n",
    "'age': [45, 50, 30, 55, 65, 40, 35, 48, 52, 58, 42, 60, 70, 32, 47, 38, 44, 51, 57, 62, 34, 39, 46, 54, 61, 36, 49, 56, 63, 37, 43, 59, 64, 41, 53, 31, 33]\n",
    "\n",
    "'cholesterol': [180, 200, 150, 210, 220, 190, 160, 185, 195, 215, 175, 225, 230, 155, 183, 170, 178, 205, 212, 227, 165, 172, 182, 208, 222, 162, 187, 217, 228, 168, 177, 220, 225, 173, 200, 145, 160]\n",
    "\n",
    "'disease': [1, 1, 0, 1, 1, 1, 0, 1, 0, 1, 0, 1, 1, 0, 1, 0, 1, 1, 1, 1, 0, 0, 1, 1, 1, 0, 1, 1, 1, 0, 0, 1, 1, 0, 1, 0, 0]\n",
    "\n",
    " \n",
    "\n",
    "\n",
    "\n"
   ]
  },
  {
   "cell_type": "markdown",
   "id": "0fe0cc03",
   "metadata": {},
   "source": [
    "2) (30 points) A company wants to predict the sales of their product based on advertising spending on TV, radio, and newspapers. Using linear regression, build a model to predict the sales of the product based on advertising spending on different media.\n",
    "\n",
    "a) Implement linear regression using Python to build the predictive model. \n",
    "\n",
    "b) Evaluate the model's performance using appropriate metrics such as mean squared error (MSE), mean absolute error (MAE), and R-squared score.\n",
    "\n",
    "c) Discuss the significance of each advertising medium (TV, radio, and newspapers) in predicting the sales of the product based on the model coefficients."
   ]
  },
  {
   "cell_type": "code",
   "execution_count": null,
   "id": "2192027f",
   "metadata": {},
   "outputs": [],
   "source": [
    "Data:\n",
    "\n",
    "'TV': [230.1, 44.5, 17.2, 151.5, 180.8, 8.7, 57.5, 120.2, 8.6, 199.8, 66.1, 214.7, 23.8, 97.5, 204.1, 195.4, 67.8, 281.4, 69.2, 147.3, 218.4, 237.4, 13.2, 228.3, 62.3, 262.9, 142.9, 240.1, 248.8, 70.6, 292.9, 112.9, 97.2, 265.6, 95.7, 290.7, 266.9, 74.7, 43.1, 228.0, 202.5, 177.0, 293.6, 206.9, 25.1, 175.1, 89.7, 239.9, 227.2, 66.9, 199.8, 100.4],\n",
    "\n",
    "'radio': [37.8, 39.3, 45.9, 41.3, 10.8, 48.9, 32.8, 19.6, 2.1, 2.6, 5.8, 24.0, 35.1, 7.6, 32.9, 46.0, 52.9, 21.1, 42.0, 3.6, 4.1, 36.9, 41.1, 26.9, 37.7, 22.9, 27.5, 5.1, 15.9, 16.9, 12.6, 3.5, 29.3, 16.7, 27.1, 16.0, 28.3, 17.4, 1.5, 20.0, 1.4, 4.1, 43.8, 33.0, 52.4, 17.0, 38.7, 50.6, 18.7, 12.4, 4.9, 9.3],\n",
    "\n",
    "'newspaper': [69.2, 45.1, 69.3, 58.5, 58.4, 75.0, 23.5, 11.6, 1.0, 21.2, 24.2, 4.0, 65.6, 56.5, 45.7, 69.2, 75.6, 29.5, 20.3, 23.6, 43.1, 65.6, 89.4, 25.6, 35.1, 19.5, 12.6, 3.5, 1.6, 79.2, 22.3, 53.5, 59.0, 29.7, 23.2, 49.6, 26.2, 22.9, 65.7, 8.5, 15.9, 16.0, 50.0, 11.6, 18.4, 18.3, 19.1, 22.3, 7.8, 54.7, 52.9, 22.5], \n",
    "\n",
    "'sales': [22.1, 10.4, 9.3, 18.5, 12.9, 7.2, 11.8, 13.2, 4.8, 10.6, 8.6, 17.4, 9.2, 9.7, 19.0, 22.4, 12.5, 24.4, 11.3, 14.6, 18.0, 12.5, 5.6, 15.5, 9.7, 12.0, 15.0, 15.9, 18.9, 10.5, 21.4, 11.9, 9.6, 17.4, 9.5, 12.8, 25.4, 14.7, 10.1, 21.5, 16.6, 17.1, 20.7, 12.9, 8.5, 14.9, 10.6, 23.2, 14.8, 9.7, 11.4, 10.7]\n",
    "\n",
    " \n",
    "\n"
   ]
  },
  {
   "cell_type": "markdown",
   "id": "0668dc4e",
   "metadata": {},
   "source": [
    "3)  (40 points) Based on the research paper attached : “Bias-variance tradeoff in machine learning: Theoretical formulation and implications to structural engineering applications” by Guan, X., & Burton, H. (2022, December),  In Structures (Vol. 46, pp. 17-30). Elsevier.\n",
    "\n",
    "File : Bias-variance tradeoff in machine learning.pdf\n",
    "\n",
    "a) Summarize the bias-variance decomposition as explained in this paper : How do the authors define bias, variance, and noise in the context of supervised machine learning?\n",
    "\n",
    "b)   What are the three types of error patterns described in the paper? : Provide an example ML model for each pattern and explain how the patterns relate to model complexity.\n",
    "\n",
    "c)  Explain the purpose and formulation of the generalized bias-variance decomposition (Equation 1 & 2). How does this formulation help in understanding the trade-off?\n",
    "\n",
    "d) What are the strengths and innovations of this paper in dealing with the bias-variance tradeoff?"
   ]
  },
  {
   "cell_type": "code",
   "execution_count": null,
   "id": "987a8ffa",
   "metadata": {},
   "outputs": [],
   "source": []
  }
 ],
 "metadata": {
  "kernelspec": {
   "display_name": "base",
   "language": "python",
   "name": "python3"
  },
  "language_info": {
   "name": "python",
   "version": "3.9.16"
  }
 },
 "nbformat": 4,
 "nbformat_minor": 5
}
