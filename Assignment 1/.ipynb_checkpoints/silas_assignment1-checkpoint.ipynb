{
 "cells": [
  {
   "cell_type": "markdown",
   "id": "7d924620",
   "metadata": {},
   "source": [
    "Leon Silas<br>\n",
    "Intro to Data Science - CAP 5768<br>\n",
    "April 19, 2025"
   ]
  },
  {
   "cell_type": "markdown",
   "id": "b733fbaf",
   "metadata": {},
   "source": [
    "### Assignment 1"
   ]
  },
  {
   "cell_type": "code",
   "execution_count": 130,
   "id": "79475f83",
   "metadata": {},
   "outputs": [],
   "source": [
    "#imports\n",
    "import numpy as np\n",
    "import pandas as pd\n",
    "import scipy.stats as stats\n",
    "import matplotlib.pyplot as plt\n",
    "from sklearn.metrics import ConfusionMatrixDisplay\n",
    "\n",
    "#import csv into df\n",
    "df = pd.read_csv('Assignment 1 - Automobile_data.csv')"
   ]
  },
  {
   "cell_type": "markdown",
   "id": "6de84ef5",
   "metadata": {},
   "source": [
    "#### Question 1 :\n",
    "\n",
    "a) print the first and last five rows (5 Points)"
   ]
  },
  {
   "cell_type": "code",
   "execution_count": 131,
   "id": "dc5f3bad",
   "metadata": {},
   "outputs": [
    {
     "name": "stdout",
     "output_type": "stream",
     "text": [
      "First 5 rows of the dataframe:\n",
      "   index      company   body-style  wheel-base  length engine-type  \\\n",
      "0      0  alfa-romero  convertible        88.6   168.8        dohc   \n",
      "1      1  alfa-romero  convertible        88.6   168.8        dohc   \n",
      "2      2  alfa-romero    hatchback        94.5   171.2        ohcv   \n",
      "3      3         audi        sedan        99.8   176.6         ohc   \n",
      "4      4         audi        sedan        99.4   176.6         ohc   \n",
      "\n",
      "  num-of-cylinders  horsepower  average-mileage    price  \n",
      "0             four         111               21  13495.0  \n",
      "1             four         111               21  16500.0  \n",
      "2              six         154               19  16500.0  \n",
      "3             four         102               24  13950.0  \n",
      "4             five         115               18  17450.0  \n",
      "\n",
      "Last 5 rows of the dataframe:\n",
      "    index     company body-style  wheel-base  length engine-type  \\\n",
      "56     81  volkswagen      sedan        97.3   171.7         ohc   \n",
      "57     82  volkswagen      sedan        97.3   171.7         ohc   \n",
      "58     86  volkswagen      sedan        97.3   171.7         ohc   \n",
      "59     87       volvo      sedan       104.3   188.8         ohc   \n",
      "60     88       volvo      wagon       104.3   188.8         ohc   \n",
      "\n",
      "   num-of-cylinders  horsepower  average-mileage    price  \n",
      "56             four          85               27   7975.0  \n",
      "57             four          52               37   7995.0  \n",
      "58             four         100               26   9995.0  \n",
      "59             four         114               23  12940.0  \n",
      "60             four         114               23  13415.0  \n"
     ]
    }
   ],
   "source": [
    "# print first 5 rows\n",
    "print(\"First 5 rows of the dataframe:\")\n",
    "print(df.head(5))\n",
    "\n",
    "# print last 5 rows\n",
    "print(\"\\nLast 5 rows of the dataframe:\")\n",
    "print(df.tail(5))"
   ]
  },
  {
   "cell_type": "markdown",
   "id": "c0e7df59",
   "metadata": {},
   "source": [
    "b) print most expensive car’s company name and price  (5 Points)"
   ]
  },
  {
   "cell_type": "code",
   "execution_count": 132,
   "id": "a102d117",
   "metadata": {},
   "outputs": [
    {
     "name": "stdout",
     "output_type": "stream",
     "text": [
      "company    mercedes-benz\n",
      "price            45400.0\n",
      "Name: 35, dtype: object\n"
     ]
    }
   ],
   "source": [
    "# find most expensive car\n",
    "top = df.loc[df['price'].idxmax()]\n",
    "print(top[['company', 'price']])"
   ]
  },
  {
   "cell_type": "markdown",
   "id": "f30ef93b",
   "metadata": {},
   "source": [
    "c) print All Toyota Cars details  (5 Points)"
   ]
  },
  {
   "cell_type": "code",
   "execution_count": 133,
   "id": "54296ab6",
   "metadata": {},
   "outputs": [
    {
     "name": "stdout",
     "output_type": "stream",
     "text": [
      "    index company body-style  wheel-base  length engine-type num-of-cylinders  \\\n",
      "48     66  toyota  hatchback        95.7   158.7         ohc             four   \n",
      "49     67  toyota  hatchback        95.7   158.7         ohc             four   \n",
      "50     68  toyota  hatchback        95.7   158.7         ohc             four   \n",
      "51     69  toyota      wagon        95.7   169.7         ohc             four   \n",
      "52     70  toyota      wagon        95.7   169.7         ohc             four   \n",
      "53     71  toyota      wagon        95.7   169.7         ohc             four   \n",
      "54     79  toyota      wagon       104.5   187.8        dohc              six   \n",
      "\n",
      "    horsepower  average-mileage    price  \n",
      "48          62               35   5348.0  \n",
      "49          62               31   6338.0  \n",
      "50          62               31   6488.0  \n",
      "51          62               31   6918.0  \n",
      "52          62               27   7898.0  \n",
      "53          62               27   8778.0  \n",
      "54         156               19  15750.0  \n"
     ]
    }
   ],
   "source": [
    "# extract toyota cars\n",
    "companies = df.groupby('company')\n",
    "toyota = companies.get_group('toyota')\n",
    "print(toyota)"
   ]
  },
  {
   "cell_type": "markdown",
   "id": "15b5410b",
   "metadata": {},
   "source": [
    "d) print total cars count per company  (5 Points)"
   ]
  },
  {
   "cell_type": "code",
   "execution_count": 134,
   "id": "9106236c",
   "metadata": {},
   "outputs": [
    {
     "name": "stdout",
     "output_type": "stream",
     "text": [
      "company\n",
      "alfa-romero      3\n",
      "audi             4\n",
      "bmw              6\n",
      "chevrolet        3\n",
      "dodge            2\n",
      "honda            3\n",
      "isuzu            3\n",
      "jaguar           3\n",
      "mazda            5\n",
      "mercedes-benz    4\n",
      "mitsubishi       4\n",
      "nissan           5\n",
      "porsche          3\n",
      "toyota           7\n",
      "volkswagen       4\n",
      "volvo            2\n",
      "dtype: int64\n"
     ]
    }
   ],
   "source": [
    "# count the number of cars for each company\n",
    "counts = companies.size()\n",
    "print(counts)"
   ]
  },
  {
   "cell_type": "markdown",
   "id": "5d0c41cd",
   "metadata": {},
   "source": [
    "e) sort all cars by Price column (5 Points)"
   ]
  },
  {
   "cell_type": "code",
   "execution_count": 135,
   "id": "8647c0a0",
   "metadata": {},
   "outputs": [
    {
     "name": "stdout",
     "output_type": "stream",
     "text": [
      "    index        company   body-style  wheel-base  length engine-type  \\\n",
      "35     47  mercedes-benz      hardtop       112.0   199.2        ohcv   \n",
      "11     14            bmw        sedan       103.5   193.8         ohc   \n",
      "34     46  mercedes-benz        sedan       120.9   208.1        ohcv   \n",
      "46     62        porsche  convertible        89.5   168.9        ohcf   \n",
      "12     15            bmw        sedan       110.0   197.0         ohc   \n",
      "..    ...            ...          ...         ...     ...         ...   \n",
      "27     36          mazda    hatchback        93.1   159.1         ohc   \n",
      "13     16      chevrolet    hatchback        88.4   141.1           l   \n",
      "22     31          isuzu        sedan        94.5   155.9         ohc   \n",
      "23     32          isuzu        sedan        94.5   155.9         ohc   \n",
      "47     63        porsche    hatchback        98.4   175.7       dohcv   \n",
      "\n",
      "   num-of-cylinders  horsepower  average-mileage    price  \n",
      "35            eight         184               14  45400.0  \n",
      "11              six         182               16  41315.0  \n",
      "34            eight         184               14  40960.0  \n",
      "46              six         207               17  37028.0  \n",
      "12              six         182               15  36880.0  \n",
      "..              ...         ...              ...      ...  \n",
      "27             four          68               30   5195.0  \n",
      "13            three          48               47   5151.0  \n",
      "22             four          70               38      NaN  \n",
      "23             four          70               38      NaN  \n",
      "47            eight         288               17      NaN  \n",
      "\n",
      "[61 rows x 10 columns]\n"
     ]
    }
   ],
   "source": [
    "# sort cars by price from highest to lowest\n",
    "sorted_cars = df.sort_values(by='price', ascending=False)\n",
    "print(sorted_cars)"
   ]
  },
  {
   "cell_type": "markdown",
   "id": "a139efaf",
   "metadata": {},
   "source": [
    "#### Question 2 : A manufacturing company claims that their new production process will result in a mean weight of 100 grams for their product packaging. To test this claim, a sample of 50 packaging units is taken, and the mean weight is found to be 98.5 grams with a standard deviation of 2.3 grams.\n",
    "\n",
    "a) Formulate the null and alternative hypotheses for this scenario."
   ]
  },
  {
   "cell_type": "markdown",
   "id": "effaf8ce",
   "metadata": {},
   "source": [
    "Null hypothesis (H0): There is not a significant difference in the mean weight of the product packaging. (Mean = 100)\n",
    "\n",
    "Alternative hypotheses (H1): There is a significant difference in the mean weight of the product packaging. (Mean =/ 100)"
   ]
  },
  {
   "cell_type": "markdown",
   "id": "70a7d210",
   "metadata": {},
   "source": [
    "b) Calculate the test statistic and p-value for testing the hypothesis (you can use a program code or you can calculate by-hand)."
   ]
  },
  {
   "cell_type": "code",
   "execution_count": 136,
   "id": "61ee6bd7",
   "metadata": {},
   "outputs": [
    {
     "name": "stdout",
     "output_type": "stream",
     "text": [
      "Manual t-statistic: -4.611565964260093\n",
      "Manual p-value: 2.8891515067376308e-05\n"
     ]
    }
   ],
   "source": [
    "# Set sample size, mean, and std\n",
    "mean = 98.5\n",
    "expected_mean = 100\n",
    "std = 2.3\n",
    "n = 50\n",
    "df = n - 1\n",
    "\n",
    "# Manual calculation of t-statistic and p-value\n",
    "t_manual = (mean - expected_mean) / (std / np.sqrt(n))\n",
    "p_manual = 2 * stats.t.sf(abs(t_manual), df)\n",
    "\n",
    "print(f\"Manual t-statistic: {t_manual}\")\n",
    "print(f\"Manual p-value: {p_manual}\")"
   ]
  },
  {
   "cell_type": "markdown",
   "id": "56b4632a",
   "metadata": {},
   "source": [
    "c) At a significance level of 0.05, what is your conclusion regarding the company's claim?"
   ]
  },
  {
   "cell_type": "markdown",
   "id": "4dc11624",
   "metadata": {},
   "source": [
    "At a significance level of 0.05 and a p-value of 0.0000028 we reject the null hypothesis and conclude there is a stastically significant difference in the mean of the packaging from 100g.  The company's claim is not supported."
   ]
  },
  {
   "cell_type": "markdown",
   "id": "2ddbcebb",
   "metadata": {},
   "source": [
    "#### Question 3 : An educational institute claims that the average score of its students in a standardized test is at least 75. To test this claim, a random sample of 40 students is taken, and their average score is found to be 72.8 with a standard deviation of 5.6.\n",
    "\n",
    "a) State the null and alternative hypotheses."
   ]
  },
  {
   "cell_type": "markdown",
   "id": "95b24983",
   "metadata": {},
   "source": [
    "Null hypothesis (H0): There is not a significant difference in the average standardized test scores of the students. (Mean >= 75)\n",
    "\n",
    "Alternative hypotheses (H1): There is a significant difference in the average standardized test scores of the students. (Mean < 75)"
   ]
  },
  {
   "cell_type": "markdown",
   "id": "c910644c",
   "metadata": {},
   "source": [
    "b) Compute the test statistic and p-value. (you can use a program code or you can calculate by-hand)."
   ]
  },
  {
   "cell_type": "code",
   "execution_count": 137,
   "id": "50b89eb7",
   "metadata": {},
   "outputs": [
    {
     "name": "stdout",
     "output_type": "stream",
     "text": [
      "Manual t-statistic: -2.4846467329894444\n",
      "Manual p-value: 0.00868357576692573\n"
     ]
    }
   ],
   "source": [
    "# Set metrics\n",
    "mean = 72.8\n",
    "expected_mean = 75\n",
    "std = 5.6\n",
    "n = 40\n",
    "df = n - 1\n",
    "\n",
    "# Manual calculation of t-statistic and p-value\n",
    "t_statistic = (mean - expected_mean) / (std / np.sqrt(n))\n",
    "p_value = stats.t.cdf(t_statistic, df)\n",
    "\n",
    "print(f\"Manual t-statistic: {t_statistic}\")\n",
    "print(f\"Manual p-value: {p_value}\")"
   ]
  },
  {
   "cell_type": "markdown",
   "id": "f9b383ca",
   "metadata": {},
   "source": [
    "c) Based on a significance level of 0.01, what is your conclusion regarding the institute's claim?"
   ]
  },
  {
   "cell_type": "markdown",
   "id": "3d197d18",
   "metadata": {},
   "source": [
    "At a significance level of 0.05 and a p-value of 0.008 we reject the null hypothesis and conclude there is a stastically significant difference in the student test scores being lower from the claimed 75 average.  The institution's claim is not supported."
   ]
  },
  {
   "cell_type": "markdown",
   "id": "5663dae4",
   "metadata": {},
   "source": [
    "#### Question 4 : A machine learning model was trained to classify emails as either spam (positive class) or non-spam (negative class). After testing the model on a dataset of 200 emails, the following results were obtained: True Positives (TP): 85 , False Positives (FP): 10, True Negatives (TN): 90, False Negatives (FN): 15\n",
    "\n",
    "a) Calculate the accuracy, precision, recall, and F1-score of the model."
   ]
  },
  {
   "cell_type": "code",
   "execution_count": 138,
   "id": "8a3d0d71",
   "metadata": {},
   "outputs": [
    {
     "name": "stdout",
     "output_type": "stream",
     "text": [
      "Accuracy: 0.875\n",
      "Precision: 0.8947368421052632\n",
      "Recall: 0.85\n",
      "F1 Score: 0.8717948717948718\n"
     ]
    }
   ],
   "source": [
    "# Set TP/TN/FP/FN values\n",
    "total = 200\n",
    "TP = 85\n",
    "TN = 90\n",
    "FP = 10\n",
    "FN = 15\n",
    "\n",
    "# Calculate accuracy, precision, recall, and F1 score\n",
    "accuracy = (TP + TN) / total\n",
    "precision = TP / (TP + FP)\n",
    "recall = TP / (TP + FN)\n",
    "f1_score = (2 * precision * recall) / (precision + recall)\n",
    "\n",
    "# Output\n",
    "print(f\"Accuracy: {accuracy}\")\n",
    "print(f\"Precision: {precision}\")\n",
    "print(f\"Recall: {recall}\")\n",
    "print(f\"F1 Score: {f1_score}\")"
   ]
  },
  {
   "cell_type": "markdown",
   "id": "54bb133b",
   "metadata": {},
   "source": [
    "b) Construct the confusion matrix based on the provided results."
   ]
  },
  {
   "cell_type": "code",
   "execution_count": 139,
   "id": "504d5b85",
   "metadata": {},
   "outputs": [
    {
     "data": {
      "image/png": "[encoded data removed]",
      "text/plain": [
       "<Figure size 640x480 with 2 Axes>"
      ]
     },
     "metadata": {},
     "output_type": "display_data"
    }
   ],
   "source": [
    "# Confusion matrix\n",
    "confusion_matrix = np.array([[TP, FN], [FP, TN]])\n",
    "display_matrix = ConfusionMatrixDisplay(confusion_matrix, display_labels=['Spam', 'Not Spam'])\n",
    "display_matrix.plot(cmap=plt.cm.YlOrBr)\n",
    "plt.title('Confusion Matrix for Spam Detection')\n",
    "plt.show()"
   ]
  },
  {
   "cell_type": "markdown",
   "id": "40e65fbe",
   "metadata": {},
   "source": [
    "c) Interpret the performance of the model based on the confusion matrix."
   ]
  },
  {
   "cell_type": "markdown",
   "id": "212298f3",
   "metadata": {},
   "source": [
    "Based on the confusion matrix, the model performs very well, but is by no means perfect.  This is supported with our metrics calculated earlier.  Overall it labels correctly most of the time and mislabels very infrequently. "
   ]
  }
 ],
 "metadata": {
  "kernelspec": {
   "display_name": "Python 3 (ipykernel)",
   "language": "python",
   "name": "python3"
  },
  "language_info": {
   "codemirror_mode": {
    "name": "ipython",
    "version": 3
   },
   "file_extension": ".py",
   "mimetype": "text/x-python",
   "name": "python",
   "nbconvert_exporter": "python",
   "pygments_lexer": "ipython3",
   "version": "3.9.16"
  }
 },
 "nbformat": 4,
 "nbformat_minor": 5
}
